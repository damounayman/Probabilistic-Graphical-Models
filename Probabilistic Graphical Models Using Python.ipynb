{
 "cells": [
  {
   "cell_type": "markdown",
   "metadata": {},
   "source": [
    "# Probabilistic Graphical Models Using Python"
   ]
  },
  {
   "cell_type": "markdown",
   "metadata": {},
   "source": [
    "# Bayesian Network Fundamentals"
   ]
  },
  {
   "cell_type": "markdown",
   "metadata": {},
   "source": [
    "## Representing independencies using pgmpy"
   ]
  },
  {
   "cell_type": "code",
   "execution_count": 32,
   "metadata": {},
   "outputs": [],
   "source": [
    "# Firstly we need to import IndependenceAssertion\n",
    "from pgmpy.independencies import IndependenceAssertion"
   ]
  },
  {
   "cell_type": "code",
   "execution_count": 33,
   "metadata": {},
   "outputs": [
    {
     "data": {
      "text/plain": [
       "(X _|_ Y)"
      ]
     },
     "execution_count": 33,
     "metadata": {},
     "output_type": "execute_result"
    }
   ],
   "source": [
    "# Each assertion is in the form of [X, Y, Z] meaning X is\n",
    "# independent of Y given Z.\n",
    "assertion1 = IndependenceAssertion('X', 'Y')\n",
    "assertion1"
   ]
  },
  {
   "cell_type": "code",
   "execution_count": 34,
   "metadata": {},
   "outputs": [
    {
     "data": {
      "text/plain": [
       "(X _|_ Y | Z)"
      ]
     },
     "execution_count": 34,
     "metadata": {},
     "output_type": "execute_result"
    }
   ],
   "source": [
    "assertion2 = IndependenceAssertion('X', 'Y', 'Z')\n",
    "assertion2"
   ]
  },
  {
   "cell_type": "code",
   "execution_count": 35,
   "metadata": {},
   "outputs": [],
   "source": [
    "from pgmpy.independencies import Independencies\n",
    "# There are multiple ways to create an Independencies object, we\n",
    "# could either initialize an empty object or initialize with some\n",
    "# assertions"
   ]
  },
  {
   "cell_type": "code",
   "execution_count": 36,
   "metadata": {},
   "outputs": [
    {
     "data": {
      "text/plain": [
       "[]"
      ]
     },
     "execution_count": 36,
     "metadata": {},
     "output_type": "execute_result"
    }
   ],
   "source": [
    "independencies = Independencies() # Empty object\n",
    "independencies.get_assertions()"
   ]
  },
  {
   "cell_type": "code",
   "execution_count": 37,
   "metadata": {},
   "outputs": [
    {
     "data": {
      "text/plain": [
       "[(X _|_ Y), (X _|_ Y | Z)]"
      ]
     },
     "execution_count": 37,
     "metadata": {},
     "output_type": "execute_result"
    }
   ],
   "source": [
    "independencies.add_assertions(assertion1, assertion2)\n",
    "independencies.get_assertions()"
   ]
  },
  {
   "cell_type": "markdown",
   "metadata": {},
   "source": [
    "# Representing joint probability distributions using pgmpy"
   ]
  },
  {
   "cell_type": "code",
   "execution_count": 38,
   "metadata": {},
   "outputs": [],
   "source": [
    "from pgmpy.factors.discrete import JointProbabilityDistribution as Joint\n",
    "distribution = Joint(['coin1', 'coin2'],\n",
    "[2, 2],\n",
    "[0.25, 0.25, 0.25, 0.25])"
   ]
  },
  {
   "cell_type": "code",
   "execution_count": 39,
   "metadata": {},
   "outputs": [
    {
     "data": {
      "text/plain": [
       "True"
      ]
     },
     "execution_count": 39,
     "metadata": {},
     "output_type": "execute_result"
    }
   ],
   "source": [
    "distribution.check_independence(['coin1'], ['coin2'])"
   ]
  },
  {
   "cell_type": "markdown",
   "metadata": {},
   "source": [
    "# Conditional probability distribution"
   ]
  },
  {
   "cell_type": "markdown",
   "metadata": {},
   "source": [
    "## Representing CPDs using pgmpy"
   ]
  },
  {
   "cell_type": "markdown",
   "metadata": {},
   "source": [
    "Restaurant example\\\n",
    "To choose a restaurant, we won't only be\n",
    "looking just at the quality of food; we might also want to look at other attributes,\n",
    "such as the cost, location, size, and so on."
   ]
  },
  {
   "cell_type": "code",
   "execution_count": 40,
   "metadata": {},
   "outputs": [
    {
     "name": "stdout",
     "output_type": "stream",
     "text": [
      "+------------+-----+\n",
      "| Quality(0) | 0.3 |\n",
      "+------------+-----+\n",
      "| Quality(1) | 0.5 |\n",
      "+------------+-----+\n",
      "| Quality(2) | 0.2 |\n",
      "+------------+-----+\n"
     ]
    }
   ],
   "source": [
    "from pgmpy.factors.discrete import TabularCPD\n",
    "# For creating a TabularCPD object we need to pass three\n",
    "# arguments: the variable name, its cardinality that is the number\n",
    "# of states of the random variable and the probability value\n",
    "# corresponding each state.\n",
    "quality = TabularCPD(variable='Quality',\n",
    "variable_card=3,\n",
    "values=[[0.3], [0.5], [0.2]])\n",
    "print(quality)"
   ]
  },
  {
   "cell_type": "code",
   "execution_count": 41,
   "metadata": {},
   "outputs": [
    {
     "data": {
      "text/plain": [
       "['Quality']"
      ]
     },
     "execution_count": 41,
     "metadata": {},
     "output_type": "execute_result"
    }
   ],
   "source": [
    "quality.variables"
   ]
  },
  {
   "cell_type": "code",
   "execution_count": 42,
   "metadata": {},
   "outputs": [
    {
     "data": {
      "text/plain": [
       "array([3])"
      ]
     },
     "execution_count": 42,
     "metadata": {},
     "output_type": "execute_result"
    }
   ],
   "source": [
    "quality.cardinality"
   ]
  },
  {
   "cell_type": "code",
   "execution_count": 43,
   "metadata": {},
   "outputs": [
    {
     "data": {
      "text/plain": [
       "array([0.3, 0.5, 0.2])"
      ]
     },
     "execution_count": 43,
     "metadata": {},
     "output_type": "execute_result"
    }
   ],
   "source": [
    "quality.values"
   ]
  },
  {
   "cell_type": "code",
   "execution_count": 44,
   "metadata": {},
   "outputs": [
    {
     "name": "stdout",
     "output_type": "stream",
     "text": [
      "+-------------+-----+\n",
      "| Location(0) | 0.6 |\n",
      "+-------------+-----+\n",
      "| Location(1) | 0.4 |\n",
      "+-------------+-----+\n"
     ]
    }
   ],
   "source": [
    "location = TabularCPD(variable='Location',\n",
    "variable_card=2,\n",
    "values=[[0.6], [0.4]])\n",
    "print(location)"
   ]
  },
  {
   "cell_type": "code",
   "execution_count": 45,
   "metadata": {},
   "outputs": [],
   "source": [
    "cost = TabularCPD(\n",
    "variable='Cost',\n",
    "variable_card=2,\n",
    "values=[[0.8, 0.6, 0.1, 0.6, 0.6, 0.05],\n",
    "[0.2, 0.4, 0.9, 0.4, 0.4, 0.95]],\n",
    "evidence=['Q', 'L'],\n",
    "evidence_card=[3, 2])"
   ]
  },
  {
   "cell_type": "code",
   "execution_count": 46,
   "metadata": {},
   "outputs": [
    {
     "name": "stdout",
     "output_type": "stream",
     "text": [
      "+---------+------+------+------+------+------+------+\n",
      "| Q       | Q(0) | Q(0) | Q(1) | Q(1) | Q(2) | Q(2) |\n",
      "+---------+------+------+------+------+------+------+\n",
      "| L       | L(0) | L(1) | L(0) | L(1) | L(0) | L(1) |\n",
      "+---------+------+------+------+------+------+------+\n",
      "| Cost(0) | 0.8  | 0.6  | 0.1  | 0.6  | 0.6  | 0.05 |\n",
      "+---------+------+------+------+------+------+------+\n",
      "| Cost(1) | 0.2  | 0.4  | 0.9  | 0.4  | 0.4  | 0.95 |\n",
      "+---------+------+------+------+------+------+------+\n"
     ]
    }
   ],
   "source": [
    "print(cost)"
   ]
  },
  {
   "cell_type": "markdown",
   "metadata": {},
   "source": [
    "# Graph theory"
   ]
  },
  {
   "cell_type": "markdown",
   "metadata": {},
   "source": [
    "# Bayesian models"
   ]
  },
  {
   "cell_type": "markdown",
   "metadata": {},
   "source": [
    "getting late for school"
   ]
  },
  {
   "cell_type": "markdown",
   "metadata": {},
   "source": [
    "<img src=\"images/gettinglateforschool.jpg\" width=\"450\">"
   ]
  },
  {
   "cell_type": "markdown",
   "metadata": {},
   "source": [
    "random variable is discrete with only two possible states {yes, no}"
   ]
  },
  {
   "cell_type": "code",
   "execution_count": 47,
   "metadata": {},
   "outputs": [],
   "source": [
    "from pgmpy.models import BayesianModel\n",
    "model = BayesianModel()"
   ]
  },
  {
   "cell_type": "code",
   "execution_count": 48,
   "metadata": {},
   "outputs": [],
   "source": [
    "model.add_nodes_from(['rain', 'traffic_jam'])\n",
    "model.add_edge('rain', 'traffic_jam')"
   ]
  },
  {
   "cell_type": "markdown",
   "metadata": {},
   "source": [
    "if we add an edge, but the nodes, between which the edge is, are not present in the model,\n",
    "pgmpy automatically adds those nodes to the model."
   ]
  },
  {
   "cell_type": "code",
   "execution_count": 49,
   "metadata": {},
   "outputs": [
    {
     "data": {
      "text/plain": [
       "NodeView(('rain', 'traffic_jam', 'accident'))"
      ]
     },
     "execution_count": 49,
     "metadata": {},
     "output_type": "execute_result"
    }
   ],
   "source": [
    "model.add_edge('accident', 'traffic_jam')\n",
    "model.nodes()"
   ]
  },
  {
   "cell_type": "code",
   "execution_count": 50,
   "metadata": {},
   "outputs": [
    {
     "data": {
      "text/plain": [
       "OutEdgeView([('rain', 'traffic_jam'), ('accident', 'traffic_jam')])"
      ]
     },
     "execution_count": 50,
     "metadata": {},
     "output_type": "execute_result"
    }
   ],
   "source": [
    "model.edges()"
   ]
  },
  {
   "cell_type": "code",
   "execution_count": 51,
   "metadata": {},
   "outputs": [],
   "source": [
    "from pgmpy.factors.discrete import TabularCPD\n",
    "cpd_rain = TabularCPD('rain', 2, [[0.4], [0.6]])\n",
    "cpd_accident = TabularCPD('accident', 2, [[0.2], [0.8]])\n",
    "cpd_traffic_jam = TabularCPD(\n",
    "'traffic_jam', 2,\n",
    "[[0.9, 0.6, 0.7, 0.1],\n",
    "[0.1, 0.4, 0.3, 0.9]],\n",
    "evidence=['rain', 'accident'],\n",
    "evidence_card=[2, 2])"
   ]
  },
  {
   "cell_type": "code",
   "execution_count": 52,
   "metadata": {},
   "outputs": [],
   "source": [
    "# sociate CPD with the model. To associate them with the model, we just need to use the add_cpd method and pgmpy automatically"
   ]
  },
  {
   "cell_type": "code",
   "execution_count": 53,
   "metadata": {},
   "outputs": [
    {
     "data": {
      "text/plain": [
       "[<TabularCPD representing P(rain:2) at 0x7fa437152d90>,\n",
       " <TabularCPD representing P(accident:2) at 0x7fa437152dd0>,\n",
       " <TabularCPD representing P(traffic_jam:2 | rain:2, accident:2) at 0x7fa437152e50>]"
      ]
     },
     "execution_count": 53,
     "metadata": {},
     "output_type": "execute_result"
    }
   ],
   "source": [
    "model.add_cpds(cpd_rain, cpd_accident, cpd_traffic_jam)\n",
    "model.get_cpds()"
   ]
  },
  {
   "cell_type": "code",
   "execution_count": 54,
   "metadata": {},
   "outputs": [],
   "source": [
    "model.add_node('long_queues')\n",
    "model.add_edge('traffic_jam', 'long_queues')\n",
    "cpd_long_queues = TabularCPD('long_queues', 2,\n",
    "[[0.9, 0.2],\n",
    "[0.1, 0.8]],\n",
    "evidence=['traffic_jam'],\n",
    "evidence_card=[2])"
   ]
  },
  {
   "cell_type": "code",
   "execution_count": 55,
   "metadata": {},
   "outputs": [
    {
     "name": "stdout",
     "output_type": "stream",
     "text": [
      "+----------------+----------------+----------------+\n",
      "| traffic_jam    | traffic_jam(0) | traffic_jam(1) |\n",
      "+----------------+----------------+----------------+\n",
      "| long_queues(0) | 0.9            | 0.2            |\n",
      "+----------------+----------------+----------------+\n",
      "| long_queues(1) | 0.1            | 0.8            |\n",
      "+----------------+----------------+----------------+\n"
     ]
    }
   ],
   "source": [
    "print(cpd_long_queues)"
   ]
  },
  {
   "cell_type": "code",
   "execution_count": 56,
   "metadata": {},
   "outputs": [],
   "source": [
    "model.add_cpds(cpd_long_queues)\n",
    "model.add_nodes_from(['getting_up_late',\n",
    "'late_for_school'])"
   ]
  },
  {
   "cell_type": "code",
   "execution_count": 57,
   "metadata": {},
   "outputs": [],
   "source": [
    "model.add_edges_from(\n",
    "[('getting_up_late', 'late_for_school'),\n",
    "('traffic_jam', 'late_for_school')])\n"
   ]
  },
  {
   "cell_type": "code",
   "execution_count": 58,
   "metadata": {},
   "outputs": [],
   "source": [
    "cpd_getting_up_late = TabularCPD('getting_up_late', 2,\n",
    "[[0.6], [0.4]])"
   ]
  },
  {
   "cell_type": "code",
   "execution_count": 59,
   "metadata": {},
   "outputs": [],
   "source": [
    "cpd_late_for_school = TabularCPD(\n",
    "'late_for_school', 2,\n",
    "[[0.9, 0.45, 0.8, 0.1],\n",
    "[0.1, 0.55, 0.2, 0.9]],\n",
    "evidence=['getting_up_late',\n",
    "'traffic_jam'],\n",
    "evidence_card=[2, 2])"
   ]
  },
  {
   "cell_type": "code",
   "execution_count": 60,
   "metadata": {},
   "outputs": [
    {
     "data": {
      "text/plain": [
       "[<TabularCPD representing P(rain:2) at 0x7fa437152d90>,\n",
       " <TabularCPD representing P(accident:2) at 0x7fa437152dd0>,\n",
       " <TabularCPD representing P(traffic_jam:2 | rain:2, accident:2) at 0x7fa437152e50>,\n",
       " <TabularCPD representing P(long_queues:2 | traffic_jam:2) at 0x7fa437151550>,\n",
       " <TabularCPD representing P(getting_up_late:2) at 0x7fa437151dd0>,\n",
       " <TabularCPD representing P(late_for_school:2 | getting_up_late:2, traffic_jam:2) at 0x7fa4371514d0>]"
      ]
     },
     "execution_count": 60,
     "metadata": {},
     "output_type": "execute_result"
    }
   ],
   "source": [
    "model.add_cpds(cpd_getting_up_late, cpd_late_for_school)\n",
    "model.get_cpds()"
   ]
  },
  {
   "cell_type": "markdown",
   "metadata": {},
   "source": [
    "pgmpy also provides a check_model method that checks whether the model and all the associated CPDs are consistentv"
   ]
  },
  {
   "cell_type": "code",
   "execution_count": 61,
   "metadata": {},
   "outputs": [
    {
     "data": {
      "text/plain": [
       "True"
      ]
     },
     "execution_count": 61,
     "metadata": {},
     "output_type": "execute_result"
    }
   ],
   "source": [
    "model.check_model()"
   ]
  },
  {
   "cell_type": "markdown",
   "metadata": {},
   "source": [
    "In case we have got some wrong CPD associated with the model and we want to remove it"
   ]
  },
  {
   "cell_type": "code",
   "execution_count": 62,
   "metadata": {},
   "outputs": [
    {
     "data": {
      "text/plain": [
       "[<TabularCPD representing P(rain:2) at 0x7fa437152d90>,\n",
       " <TabularCPD representing P(accident:2) at 0x7fa437152dd0>,\n",
       " <TabularCPD representing P(traffic_jam:2 | rain:2, accident:2) at 0x7fa437152e50>,\n",
       " <TabularCPD representing P(long_queues:2 | traffic_jam:2) at 0x7fa437151550>,\n",
       " <TabularCPD representing P(getting_up_late:2) at 0x7fa437151dd0>]"
      ]
     },
     "execution_count": 62,
     "metadata": {},
     "output_type": "execute_result"
    }
   ],
   "source": [
    "model.remove_cpds('late_for_school')\n",
    "model.get_cpds()"
   ]
  },
  {
   "cell_type": "markdown",
   "metadata": {},
   "source": [
    "### Reasoning pattern in Bayesian networks"
   ]
  },
  {
   "cell_type": "markdown",
   "metadata": {},
   "source": [
    "Would the probability of having a road accident change if I knew that there was a\n",
    "traffic jam? what are the chances that it rained heavily today if some student\n",
    "comes late to class?"
   ]
  },
  {
   "cell_type": "markdown",
   "metadata": {},
   "source": [
    "$$\n",
    "P_{J}=P(A, R, J, G, L, Q)=P(A) P(R) P(J \\mid A, R) P(Q \\mid G) P(L \\mid G, J)\n",
    "$$"
   ]
  },
  {
   "cell_type": "code",
   "execution_count": 63,
   "metadata": {},
   "outputs": [
    {
     "data": {
      "text/plain": [
       "False"
      ]
     },
     "execution_count": 63,
     "metadata": {},
     "output_type": "execute_result"
    }
   ],
   "source": [
    "model.is_active_trail('accident', 'rain')"
   ]
  },
  {
   "cell_type": "code",
   "execution_count": 64,
   "metadata": {},
   "outputs": [
    {
     "data": {
      "text/plain": [
       "True"
      ]
     },
     "execution_count": 64,
     "metadata": {},
     "output_type": "execute_result"
    }
   ],
   "source": [
    "model.is_active_trail('accident', 'rain',\n",
    "observed='traffic_jam')"
   ]
  },
  {
   "cell_type": "code",
   "execution_count": 65,
   "metadata": {},
   "outputs": [
    {
     "data": {
      "text/plain": [
       "False"
      ]
     },
     "execution_count": 65,
     "metadata": {},
     "output_type": "execute_result"
    }
   ],
   "source": [
    "model.is_active_trail('getting_up_late', 'rain')"
   ]
  },
  {
   "cell_type": "code",
   "execution_count": 66,
   "metadata": {},
   "outputs": [
    {
     "data": {
      "text/plain": [
       "True"
      ]
     },
     "execution_count": 66,
     "metadata": {},
     "output_type": "execute_result"
    }
   ],
   "source": [
    "model.is_active_trail('getting_up_late', 'rain',\n",
    "observed='late_for_school')"
   ]
  },
  {
   "cell_type": "markdown",
   "metadata": {},
   "source": [
    "### Rule CPD"
   ]
  },
  {
   "cell_type": "markdown",
   "metadata": {},
   "source": [
    "<img src=\"images/RuleCPD.jpg\" width=\"450\">"
   ]
  },
  {
   "cell_type": "code",
   "execution_count": null,
   "metadata": {},
   "outputs": [],
   "source": [
    "from pgmpy.factors import TreeCPD, Factor\n",
    "tree_cpd = TreeCPD([\n",
    "('B', Factor(['A'], [2], [0.8,\n",
    "('B', 'C', '1'),\n",
    "('C', Factor(['A'], [2], [0.1,\n",
    "('C', 'D', '1'),\n",
    "('D', Factor(['A'], [2], [0.9,\n",
    "('D', Factor(['A'], [2], [0.4,\n",
    "0.2]), '0'),\n",
    "0.9]), '0'),\n",
    "0.1]), '0'),\n",
    "0.6]), '1')])"
   ]
  },
  {
   "cell_type": "markdown",
   "metadata": {},
   "source": [
    "## Markov Network Fundamentals"
   ]
  },
  {
   "cell_type": "code",
   "execution_count": null,
   "metadata": {},
   "outputs": [],
   "source": []
  }
 ],
 "metadata": {
  "kernelspec": {
   "display_name": "Python 3",
   "language": "python",
   "name": "python3"
  },
  "language_info": {
   "codemirror_mode": {
    "name": "ipython",
    "version": 3
   },
   "file_extension": ".py",
   "mimetype": "text/x-python",
   "name": "python",
   "nbconvert_exporter": "python",
   "pygments_lexer": "ipython3",
   "version": "3.7.9"
  }
 },
 "nbformat": 4,
 "nbformat_minor": 4
}
