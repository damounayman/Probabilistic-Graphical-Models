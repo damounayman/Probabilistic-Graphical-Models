{
 "cells": [
  {
   "cell_type": "markdown",
   "metadata": {},
   "source": [
    "## Bayesian Network Student Example"
   ]
  },
  {
   "cell_type": "markdown",
   "metadata": {},
   "source": [
    "<img src=\"images/Network_Student.png\" width=\"450\">"
   ]
  },
  {
   "cell_type": "code",
   "execution_count": 41,
   "metadata": {},
   "outputs": [
    {
     "name": "stderr",
     "output_type": "stream",
     "text": [
      "Finding Elimination Order: : 100%|██████████| 3/3 [00:00<00:00, 2764.87it/s]\n",
      "Eliminating: S: 100%|██████████| 3/3 [00:00<00:00, 578.60it/s]\n",
      "Finding Elimination Order: : 100%|██████████| 2/2 [00:00<00:00, 2459.28it/s]\n",
      "Eliminating: S: 100%|██████████| 2/2 [00:00<00:00, 1072.44it/s]"
     ]
    },
    {
     "name": "stdout",
     "output_type": "stream",
     "text": [
      "+------+----------+\n",
      "| L    |   phi(L) |\n",
      "+======+==========+\n",
      "| L(0) |   0.6114 |\n",
      "+------+----------+\n",
      "| L(1) |   0.3886 |\n",
      "+------+----------+\n",
      "+------+----------+\n",
      "| L    |   phi(L) |\n",
      "+======+==========+\n",
      "| L(0) |   0.4870 |\n",
      "+------+----------+\n",
      "| L(1) |   0.5130 |\n",
      "+------+----------+\n"
     ]
    },
    {
     "name": "stderr",
     "output_type": "stream",
     "text": [
      "\n"
     ]
    }
   ],
   "source": [
    "from pgmpy.models import BayesianModel\n",
    "from pgmpy.factors.discrete import TabularCPD\n",
    "from pgmpy.inference import VariableElimination\n",
    "# Defining the model structure. We can define the network by just passing a list of edges.\n",
    "model = BayesianModel([('D', 'G'), ('I', 'G'), ('G', 'L'), ('I', 'S')])\n",
    "# Defining individual CPDs.\n",
    "\n",
    "cpd_D = TabularCPD('D',\n",
    "                    2,\n",
    "                    [[0.6,0.4]])\n",
    "\n",
    "cpd_I = TabularCPD('I',\n",
    "                    2,\n",
    "                    [[0.7,0.3]])\n",
    "\n",
    "# The representation of CPD in pgmpy is a bit different than the CPD shown in the above picture. In pgmpy the colums\n",
    "# are the evidences and rows are the states of the variable. So the grade CPD is represented like this:\n",
    "#\n",
    "#    +---------+---------+---------+---------+---------+\n",
    "#    | diff    | intel_0 | intel_0 | intel_1 | intel_1 |\n",
    "#    +---------+---------+---------+---------+---------+\n",
    "#    | intel   | diff_0  | diff_1  | diff_0  | diff_1  |\n",
    "#    +---------+---------+---------+---------+---------+\n",
    "#    | grade_0 | 0.3     | 0.05    | 0.9     | 0.5     |\n",
    "#    +---------+---------+---------+---------+---------+\n",
    "#    | grade_1 | 0.4     | 0.25    | 0.08    | 0.3     |\n",
    "#    +---------+---------+---------+---------+---------+\n",
    "#    | grade_2 | 0.3     | 0.7     | 0.02    | 0.2     |\n",
    "#    +---------+---------+---------+---------+---------+\n",
    "cpd_S = TabularCPD('S',\n",
    "                    2,\n",
    "                    [[0.95, 0.2],\n",
    "                     [0.05, 0.8]],\n",
    "                    evidence = ['I'],\n",
    "                    evidence_card=[2])\n",
    "\n",
    "cpd_G = TabularCPD('G',\n",
    "                    3,\n",
    "                    [[ 0.3,   0.05,  0.9,   0.5 ],\n",
    "                     [ 0.4,   0.25,  0.08,  0.3 ],\n",
    "                     [ 0.3,   0.7,   0.02,  0.2 ]],\n",
    "                    evidence = ['I','D'],\n",
    "                    evidence_card=[2,2])\n",
    "\n",
    "cpd_L = TabularCPD('L',\n",
    "                    2,\n",
    "                    [[ 0.1,   0.4,   0.99],\n",
    "                     [ 0.9,   0.6,   0.01]],\n",
    "                    evidence = ['G'],\n",
    "                    evidence_card=[3])\n",
    "\n",
    "model.add_cpds(cpd_D,\n",
    "               cpd_I,\n",
    "               cpd_S,\n",
    "               cpd_G,\n",
    "               cpd_L)\n",
    "\n",
    "model.check_model()\n",
    "\n",
    "infer = VariableElimination(model)\n",
    "\n",
    "print(infer.query(['L'], evidence={'I': 0}))\n",
    "print(infer.query(['L'], evidence={'I': 0, 'D': 0}))\n"
   ]
  },
  {
   "cell_type": "code",
   "execution_count": 42,
   "metadata": {},
   "outputs": [
    {
     "name": "stdout",
     "output_type": "stream",
     "text": [
      "+------+------+------+------+------+\n",
      "| I    | I(0) | I(0) | I(1) | I(1) |\n",
      "+------+------+------+------+------+\n",
      "| D    | D(0) | D(1) | D(0) | D(1) |\n",
      "+------+------+------+------+------+\n",
      "| G(0) | 0.3  | 0.05 | 0.9  | 0.5  |\n",
      "+------+------+------+------+------+\n",
      "| G(1) | 0.4  | 0.25 | 0.08 | 0.3  |\n",
      "+------+------+------+------+------+\n",
      "| G(2) | 0.3  | 0.7  | 0.02 | 0.2  |\n",
      "+------+------+------+------+------+\n"
     ]
    }
   ],
   "source": [
    "print(cpd_G)"
   ]
  },
  {
   "cell_type": "code",
   "execution_count": 43,
   "metadata": {},
   "outputs": [
    {
     "name": "stdout",
     "output_type": "stream",
     "text": [
      "+------+---------------------+----------------------+--------+----------------------+\n",
      "| I    | I(0)                | I(0)                 | I(1)   | I(1)                 |\n",
      "+------+---------------------+----------------------+--------+----------------------+\n",
      "| D    | D(0)                | D(1)                 | D(0)   | D(1)                 |\n",
      "+------+---------------------+----------------------+--------+----------------------+\n",
      "| G(0) | 0.126               | 0.014000000000000002 | 0.162  | 0.06                 |\n",
      "+------+---------------------+----------------------+--------+----------------------+\n",
      "| G(1) | 0.16799999999999998 | 0.06999999999999999  | 0.0144 | 0.036                |\n",
      "+------+---------------------+----------------------+--------+----------------------+\n",
      "| G(2) | 0.126               | 0.19599999999999998  | 0.0036 | 0.024000000000000004 |\n",
      "+------+---------------------+----------------------+--------+----------------------+\n",
      "\n",
      "P(D=1 | G=2) / P(G=2) = (0.196 + 0.024) / (0.126 + 0.196 + 0.0036 + 0.024)\n",
      "\n",
      "0.6292906178489702\n"
     ]
    }
   ],
   "source": [
    "from pgmpy.factors.discrete import TabularCPD\n",
    "\n",
    "cpd_D = TabularCPD('D',\n",
    "                    2,\n",
    "                    [[0.6,0.4]])\n",
    "\n",
    "cpd_I = TabularCPD('I',\n",
    "                    2,\n",
    "                    [[0.7,0.3]])\n",
    "\n",
    "cpd_G = TabularCPD('G',\n",
    "                    3,\n",
    "                    [[ 0.3,   0.05,  0.9,   0.5 ],\n",
    "                     [ 0.4,   0.25,  0.08,  0.3 ],\n",
    "                     [ 0.3,   0.7,   0.02,  0.2 ]],\n",
    "                    evidence = ['I','D'],\n",
    "                    evidence_card=[2,2])\n",
    "\n",
    "P = cpd_G*cpd_D*cpd_I\n",
    "print(P)\n",
    "\n",
    "print('\\nP(D=1 | G=2) / P(G=2) = (0.196 + 0.024) / (0.126 + 0.196 + 0.0036 + 0.024)\\n')\n",
    "print ((0.196 + 0.024) / (0.126 + 0.196 + 0.0036 + 0.024))"
   ]
  },
  {
   "cell_type": "code",
   "execution_count": null,
   "metadata": {},
   "outputs": [],
   "source": []
  }
 ],
 "metadata": {
  "kernelspec": {
   "display_name": "Python 3",
   "language": "python",
   "name": "python3"
  },
  "language_info": {
   "codemirror_mode": {
    "name": "ipython",
    "version": 3
   },
   "file_extension": ".py",
   "mimetype": "text/x-python",
   "name": "python",
   "nbconvert_exporter": "python",
   "pygments_lexer": "ipython3",
   "version": "3.7.6"
  }
 },
 "nbformat": 4,
 "nbformat_minor": 4
}
